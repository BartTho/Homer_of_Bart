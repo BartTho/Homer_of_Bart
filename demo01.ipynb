{
 "cells": [
  {
   "cell_type": "markdown",
   "metadata": {},
   "source": [
    "# Demo Home of Bart"
   ]
  },
  {
   "cell_type": "markdown",
   "metadata": {},
   "source": [
    "# Klassificatie van Homer of Bart\n",
    "\n",
    "Het hele proces is weergegeven, van het maken en labelen van de data tot het trainen van het model.\n",
    "\n",
    "1. Afbeeldingen verwerken tot numpy 1D flat pixel arrays\n",
    "2. Afbeeldingen labelen volgens bestandsnaam\n",
    "3. Een dicht neuraal netwerk trainen van 2 verborgen relu-lagen en 1 output sigmoid-laag\n",
    "4. Nauwkeurigheid is ongeveer 72-78%"
   ]
  },
  {
   "cell_type": "markdown",
   "metadata": {},
   "source": [
    "## pip install"
   ]
  },
  {
   "cell_type": "code",
   "execution_count": null,
   "metadata": {},
   "outputs": [],
   "source": [
    "%pip install numpy tensorflow keras scikit-learn pillow"
   ]
  },
  {
   "cell_type": "markdown",
   "metadata": {},
   "source": [
    "### Importing libraries"
   ]
  },
  {
   "cell_type": "code",
   "execution_count": null,
   "metadata": {},
   "outputs": [],
   "source": [
    "import os\n",
    "import numpy as np\n",
    "import keras\n",
    "from sklearn.model_selection import train_test_split\n",
    "from sklearn.metrics import accuracy_score\n",
    "from keras import Sequential\n",
    "from PIL import Image"
   ]
  },
  {
   "cell_type": "markdown",
   "metadata": {},
   "source": [
    "### Example of one image processing "
   ]
  },
  {
   "cell_type": "code",
   "execution_count": null,
   "metadata": {},
   "outputs": [],
   "source": [
    "# Checking original image nr. 1\n",
    "dir_path = 'Data'\n",
    "img_original = Image.open(dir_path + \"/bart1.bmp\")\n",
    "display(img_original)"
   ]
  },
  {
   "cell_type": "code",
   "execution_count": null,
   "metadata": {},
   "outputs": [],
   "source": [
    "# Processing image\n",
    "img = (Image.open(dir_path + \"/bart1.bmp\")\n",
    "       .resize((40, 40)))  # 40x40px\n",
    "display(img)"
   ]
  },
  {
   "cell_type": "code",
   "execution_count": null,
   "metadata": {},
   "outputs": [],
   "source": [
    "# Making it an array \n",
    "img_arr = np.array(img) # It creates a 2D array\n",
    "print(img_arr)\n",
    "print(img_arr.shape)"
   ]
  },
  {
   "cell_type": "code",
   "execution_count": null,
   "metadata": {},
   "outputs": [],
   "source": [
    "# To make it flat and simplify, as 2D doesn't gain anything\n",
    "print(img_arr.reshape(-1))"
   ]
  },
  {
   "cell_type": "markdown",
   "metadata": {},
   "source": [
    "### Iterating and processing all directory"
   ]
  },
  {
   "cell_type": "code",
   "execution_count": null,
   "metadata": {},
   "outputs": [],
   "source": [
    "# Transforming all \n",
    "directory = dir_path\n",
    "all_img_converter = []\n",
    "y_all = []\n",
    "\n",
    "for filename in os.listdir(directory):\n",
    "    f = os.path.join(directory, filename)\n",
    "    if os.path.isfile(f):\n",
    "        # Greyscale and resize\n",
    "        img = (Image.open(f).resize((100, 100)))  # 40x40px\n",
    "        \n",
    "        # Flattening \n",
    "        x = np.array(img).reshape(-1)\n",
    "        all_img_converter.append(x)\n",
    "        \n",
    "        # Labelling data 1 = Bart, 0 = Homer\n",
    "        y = 1\n",
    "        if \"homer\" in filename:\n",
    "            y = 0\n",
    "        y_all.append(y)\n",
    "\n",
    "x = np.array(all_img_converter)\n",
    "y = np.array(y_all)"
   ]
  },
  {
   "cell_type": "code",
   "execution_count": null,
   "metadata": {},
   "outputs": [],
   "source": [
    "print(x.shape)\n",
    "print(y.shape)"
   ]
  },
  {
   "cell_type": "markdown",
   "metadata": {},
   "source": [
    "### After crafting the data, let's split"
   ]
  },
  {
   "cell_type": "code",
   "execution_count": null,
   "metadata": {},
   "outputs": [],
   "source": [
    "X_train, X_test, y_train, y_test = train_test_split(x, y, test_size=0.2, random_state=42)"
   ]
  },
  {
   "cell_type": "markdown",
   "metadata": {},
   "source": [
    "### Creating the model\n",
    "\n"
   ]
  },
  {
   "cell_type": "code",
   "execution_count": null,
   "metadata": {},
   "outputs": [],
   "source": [
    "#model = Sequential([\n",
    "#    keras.Input(shape=(30000,)),\n",
    "#    keras.layers.Dense(units=45, activation='relu', kernel_regularizer=keras.regularizers.l1(0.001)),\n",
    "#    keras.layers.Dense(units=15, activation='relu', kernel_regularizer=keras.regularizers.l2(0.001)),\n",
    "#    keras.layers.Dense(units=1, activation='sigmoid') \n",
    "#])\n",
    "model = Sequential([\n",
    "    keras.Input(shape=(30000,)),\n",
    "    keras.layers.Dense(units=100, activation='relu', kernel_regularizer=keras.regularizers.l1(0.001)),\n",
    "    keras.layers.Dense(units=30, activation='relu', kernel_regularizer=keras.regularizers.l2(0.001)),\n",
    "    keras.layers.Dense(units=1, activation='sigmoid') \n",
    "])\n",
    "\n",
    "model.summary()"
   ]
  },
  {
   "cell_type": "code",
   "execution_count": null,
   "metadata": {},
   "outputs": [],
   "source": [
    "model.compile(loss='binary_crossentropy', optimizer='adam')"
   ]
  },
  {
   "cell_type": "code",
   "execution_count": null,
   "metadata": {},
   "outputs": [],
   "source": [
    "#model.fit(X_train, y_train, epochs=1000, verbose=0)\n",
    "model.fit(X_train, y_train, epochs=1000)"
   ]
  },
  {
   "cell_type": "markdown",
   "metadata": {},
   "source": [
    "### Checking accuracy"
   ]
  },
  {
   "cell_type": "code",
   "execution_count": 53,
   "metadata": {},
   "outputs": [
    {
     "name": "stdout",
     "output_type": "stream",
     "text": [
      "\u001b[1m2/2\u001b[0m \u001b[32m━━━━━━━━━━━━━━━━━━━━\u001b[0m\u001b[37m\u001b[0m \u001b[1m0s\u001b[0m 31ms/step\n"
     ]
    }
   ],
   "source": [
    "predictions = model.predict(X_test)\n",
    "predictions = (predictions > 0.5).astype(\"int32\")"
   ]
  },
  {
   "cell_type": "code",
   "execution_count": 54,
   "metadata": {},
   "outputs": [
    {
     "name": "stdout",
     "output_type": "stream",
     "text": [
      "Accuracy: 0.6296296296296297\n"
     ]
    }
   ],
   "source": [
    "acc = accuracy_score(y_test, predictions)\n",
    "print(\"Accuracy:\", acc)"
   ]
  },
  {
   "cell_type": "code",
   "execution_count": 55,
   "metadata": {},
   "outputs": [
    {
     "data": {
      "image/jpeg": "[encoded data removed]",
      "image/png": "[encoded data removed]",
      "text/plain": [
       "<PIL.Image.Image image mode=RGB size=100x100>"
      ]
     },
     "metadata": {},
     "output_type": "display_data"
    },
    {
     "name": "stdout",
     "output_type": "stream",
     "text": [
      "\u001b[1m1/1\u001b[0m \u001b[32m━━━━━━━━━━━━━━━━━━━━\u001b[0m\u001b[37m\u001b[0m \u001b[1m0s\u001b[0m 52ms/step\n",
      "Homer\n"
     ]
    }
   ],
   "source": [
    "# Processing image\n",
    "img = (Image.open(\"foto04.jpg\")\n",
    "       .resize((100, 100)))  # 100x100px\n",
    "display(img)\n",
    "\n",
    "# Making it an array \n",
    "img_arr = np.array(img) # It creates a 2D array\n",
    "#print(img_arr)\n",
    "#print(img_arr.shape)\n",
    "\n",
    "#print(img_arr.reshape(-1))\n",
    "predictions = model.predict(img_arr.reshape(1, -1))\n",
    "print(\"Bart\" if predictions > 0.5 else \"Homer\")\n"
   ]
  }
 ],
 "metadata": {
  "kernelspec": {
   "display_name": ".venv",
   "language": "python",
   "name": "python3"
  },
  "language_info": {
   "codemirror_mode": {
    "name": "ipython",
    "version": 3
   },
   "file_extension": ".py",
   "mimetype": "text/x-python",
   "name": "python",
   "nbconvert_exporter": "python",
   "pygments_lexer": "ipython3",
   "version": "3.11.0"
  }
 },
 "nbformat": 4,
 "nbformat_minor": 2
}
